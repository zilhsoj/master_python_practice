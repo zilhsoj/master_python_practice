{
 "cells": [
  {
   "cell_type": "markdown",
   "metadata": {
    "collapsed": true
   },
   "source": [
    "# Final Field Readiness Test \n",
    "\n",
    "** For this test you will be using Object Oriented Programming to create an object that uses a modified Caeser Cipher. Check out the video for an explanation of how the object will work. The basic idea is the following, given a message such as \"hello world\", the encryption should perform the following steps:**\n",
    "\n",
    "** The encryption method you will create: **\n",
    "\n",
    "1. Accept a string, such as: \"hello world\"\n",
    "2. Add in a random letter in every other index position in the string, for example: 'hueqlzlpom cwgosrhlbdg'\n",
    "3. Then reverse this string, for example: 'gdblhrsogwc moplzlqeuh'\n",
    "4. Then create a shuffled version of the alphabet (remember to set a seed to the random.seed() so you can get this shuffled version again by providing the same seed number).\n",
    "5. Just like a classic Caeser cipher, match up the index of each letter and then encrypt the letters using this shuffled alphabet.\n",
    "\n",
    "The end result will be a string something like \"divgkjocdze bcrgqghywk\" for our previous example.\n",
    "\n",
    "To decrypt this, reverse the steps. The hardest step to reverse is the randomized shuffling of the alphabet, to regain the same shuffling, you will need the seed key. The method for the decryption will accept this as an argument.\n",
    "\n",
    "The \"skeleton\" of the code has been outlined for you to fill out below. Best of luck!"
   ]
  },
  {
   "cell_type": "code",
   "execution_count": 2,
   "metadata": {},
   "outputs": [],
   "source": [
    "# Imports you might need\n",
    "import string\n",
    "import random"
   ]
  },
  {
   "cell_type": "code",
   "execution_count": 40,
   "metadata": {},
   "outputs": [
    {
     "ename": "IndexError",
     "evalue": "list index out of range",
     "output_type": "error",
     "traceback": [
      "\u001b[1;31m---------------------------------------------------------------------------\u001b[0m",
      "\u001b[1;31mIndexError\u001b[0m                                Traceback (most recent call last)",
      "\u001b[1;32m<ipython-input-40-ce5c93f39993>\u001b[0m in \u001b[0;36m<module>\u001b[1;34m\u001b[0m\n\u001b[0;32m      4\u001b[0m \u001b[1;32mfor\u001b[0m \u001b[0mi\u001b[0m \u001b[1;32min\u001b[0m \u001b[1;34m'abcd'\u001b[0m\u001b[1;33m:\u001b[0m\u001b[1;33m\u001b[0m\u001b[1;33m\u001b[0m\u001b[0m\n\u001b[0;32m      5\u001b[0m \u001b[1;33m\u001b[0m\u001b[0m\n\u001b[1;32m----> 6\u001b[1;33m     \u001b[0moutput\u001b[0m \u001b[1;33m+=\u001b[0m  \u001b[0mi\u001b[0m\u001b[1;33m+\u001b[0m\u001b[0mnormal\u001b[0m\u001b[1;33m[\u001b[0m\u001b[0mrandom\u001b[0m\u001b[1;33m.\u001b[0m\u001b[0mrandint\u001b[0m\u001b[1;33m(\u001b[0m\u001b[1;36m0\u001b[0m\u001b[1;33m,\u001b[0m\u001b[1;36m27\u001b[0m\u001b[1;33m)\u001b[0m\u001b[1;33m]\u001b[0m\u001b[1;33m\u001b[0m\u001b[1;33m\u001b[0m\u001b[0m\n\u001b[0m\u001b[0;32m      7\u001b[0m \u001b[0mprint\u001b[0m\u001b[1;33m(\u001b[0m\u001b[0moutput\u001b[0m\u001b[1;33m)\u001b[0m\u001b[1;33m\u001b[0m\u001b[1;33m\u001b[0m\u001b[0m\n\u001b[0;32m      8\u001b[0m \u001b[1;33m\u001b[0m\u001b[0m\n",
      "\u001b[1;31mIndexError\u001b[0m: list index out of range"
     ]
    }
   ],
   "source": [
    "normal = list(string.ascii_lowercase)\n",
    "\n",
    "output=''\n",
    "for i in 'abcd':\n",
    "\n",
    "    output +=  i+normal[random.randint(0,27)]\n",
    "print(output)\n",
    "\n"
   ]
  },
  {
   "cell_type": "code",
   "execution_count": 15,
   "metadata": {},
   "outputs": [],
   "source": [
    "class Encryption():\n",
    "    \n",
    "    def __init__(self,seed):\n",
    "        \n",
    "        # Set a random seed and a self.seed attribute\n",
    "        self.seed = seed\n",
    "        \n",
    "        # Create an empty string attribute to hold the encrypted phrase\n",
    "        self.encrypted = []\n",
    "        \n",
    "        # Use the string and random libraries to create two attributes\n",
    "        # One is the correct alphabet, another is a shuffled alphabet (hint: random.sample())\n",
    "        self.normal = list(string.ascii_lowercase)\n",
    "        random.seed(20)\n",
    "        self.shuffled = random.sample(normal, 26)\n",
    "        \n",
    "        \n",
    "        \n",
    "        \n",
    "    def encryption(self,message):\n",
    "        '''\n",
    "        This method will take in a string message and encrypt it. Check the video or \n",
    "        the instructions above in the markdown for full description of how your\n",
    "        decryption method should work.\n",
    "        \n",
    "        '''\n",
    "        \n",
    "        \n",
    "        ################################################################\n",
    "        ### STEP 1: REPLACE EVERY OTHER LETTER WITH A RANDOM LETTER ###\n",
    "        ##############################################################\n",
    "        \n",
    "        for i in message:\n",
    "            expanded += i+normal[random.randin(0,27)]\n",
    "            \n",
    "        \n",
    "        \n",
    "        #################################################\n",
    "        ### STEP 2: REVERSE THE STRING  ################\n",
    "        ###############################################\n",
    "        \n",
    "         \n",
    "        \n",
    "        ##########################################################################\n",
    "        ##### STEP 3: USE THE RANDOM SHUFFLED ALPHABET FOR A Caeser CIPHER ######\n",
    "        ########################################################################\n",
    "        \n",
    "        \n",
    "        pass\n",
    "     \n",
    "   \n",
    "    def decryption(self,message,seed):\n",
    "        '''\n",
    "        This method takes in a messsage and a seed for the random shuffled alphabet.\n",
    "        It then returns the decrypted alphabet.\n",
    "        '''\n",
    "        pass"
   ]
  },
  {
   "cell_type": "markdown",
   "metadata": {},
   "source": [
    "**Example of this in action:**"
   ]
  },
  {
   "cell_type": "code",
   "execution_count": 12,
   "metadata": {
    "collapsed": true
   },
   "outputs": [],
   "source": [
    "e = Encryption(20)"
   ]
  },
  {
   "cell_type": "code",
   "execution_count": 13,
   "metadata": {},
   "outputs": [
    {
     "data": {
      "text/plain": [
       "'divgkjocdze bcrgqghywk'"
      ]
     },
     "execution_count": 13,
     "metadata": {},
     "output_type": "execute_result"
    }
   ],
   "source": [
    "e.encryption('hello world')"
   ]
  },
  {
   "cell_type": "code",
   "execution_count": 14,
   "metadata": {},
   "outputs": [
    {
     "data": {
      "text/plain": [
       "'hello world'"
      ]
     },
     "execution_count": 14,
     "metadata": {},
     "output_type": "execute_result"
    }
   ],
   "source": [
    "e.decryption('divgkjocdze bcrgqghywk',20)"
   ]
  },
  {
   "cell_type": "markdown",
   "metadata": {},
   "source": [
    "Best of luck!"
   ]
  }
 ],
 "metadata": {
  "kernelspec": {
   "display_name": "Python 3",
   "language": "python",
   "name": "python3"
  },
  "language_info": {
   "codemirror_mode": {
    "name": "ipython",
    "version": 3
   },
   "file_extension": ".py",
   "mimetype": "text/x-python",
   "name": "python",
   "nbconvert_exporter": "python",
   "pygments_lexer": "ipython3",
   "version": "3.8.2"
  }
 },
 "nbformat": 4,
 "nbformat_minor": 2
}
